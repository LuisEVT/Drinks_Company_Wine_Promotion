{
 "cells": [
  {
   "cell_type": "markdown",
   "id": "1b1e39ee",
   "metadata": {
    "id": "bA5ajAmk7XH6"
   },
   "source": [
    "# Where should a drinks company run promotions?\n",
    "\n",
    "## 📖 Background\n",
    "Your company owns a chain of stores across Russia that sell a variety of alcoholic drinks. The company recently ran a wine promotion in Saint Petersburg that was very successful. Due to the cost to the business, it isn’t possible to run the promotion in all regions. The marketing team would like to target 10 other regions that have similar buying habits to Saint Petersburg where they would expect the promotion to be similarly successful.\n",
    "\n",
    "### The data\n",
    "The marketing team has sourced you with historical sales volumes per capita for several different drinks types.\n",
    "\n",
    "- \"year\" - year (1998-2016)\n",
    "- \"region\" - name of a federal subject of Russia. It could be oblast, republic, krai, autonomous okrug, federal city and a single autonomous oblast\n",
    "- \"wine\" - sale of wine in litres by year per capita\n",
    "- \"beer\" - sale of beer in litres by year per capita\n",
    "- \"vodka\" - sale of vodka in litres by year per capita\n",
    "- \"champagne\" - sale of champagne in litres by year per capita\n",
    "- \"brandy\" - sale of brandy in litres by year per capita"
   ]
  },
  {
   "cell_type": "markdown",
   "id": "39e2bbfa",
   "metadata": {},
   "source": [
    "## 💪 Competition Challenge\n",
    "\n",
    "1. Recommend 10 additional regions they should select for the promotion.\n",
    "2. Tell the story that supports your recommendations."
   ]
  },
  {
   "cell_type": "markdown",
   "id": "7d12f094",
   "metadata": {},
   "source": [
    "# Exploratory Data Analysis"
   ]
  },
  {
   "cell_type": "code",
   "execution_count": 14,
   "id": "0814bd49",
   "metadata": {},
   "outputs": [],
   "source": [
    "%matplotlib inline\n",
    "\n",
    "import pandas as pd\n",
    "\n",
    "# Missing Data Package\n",
    "import missingno as msno\n",
    "\n",
    "# Plot visualization\n",
    "import matplotlib.pyplot as plt\n",
    "import seaborn as sns\n",
    "from  matplotlib.ticker import FuncFormatter"
   ]
  },
  {
   "cell_type": "code",
   "execution_count": 2,
   "id": "75cbaa66",
   "metadata": {},
   "outputs": [
    {
     "data": {
      "text/html": [
       "<div>\n",
       "<style scoped>\n",
       "    .dataframe tbody tr th:only-of-type {\n",
       "        vertical-align: middle;\n",
       "    }\n",
       "\n",
       "    .dataframe tbody tr th {\n",
       "        vertical-align: top;\n",
       "    }\n",
       "\n",
       "    .dataframe thead th {\n",
       "        text-align: right;\n",
       "    }\n",
       "</style>\n",
       "<table border=\"1\" class=\"dataframe\">\n",
       "  <thead>\n",
       "    <tr style=\"text-align: right;\">\n",
       "      <th></th>\n",
       "      <th>year</th>\n",
       "      <th>region</th>\n",
       "      <th>wine</th>\n",
       "      <th>beer</th>\n",
       "      <th>vodka</th>\n",
       "      <th>champagne</th>\n",
       "      <th>brandy</th>\n",
       "    </tr>\n",
       "  </thead>\n",
       "  <tbody>\n",
       "    <tr>\n",
       "      <th>0</th>\n",
       "      <td>1998</td>\n",
       "      <td>Republic of Adygea</td>\n",
       "      <td>1.9</td>\n",
       "      <td>8.8</td>\n",
       "      <td>3.4</td>\n",
       "      <td>0.3</td>\n",
       "      <td>0.1</td>\n",
       "    </tr>\n",
       "    <tr>\n",
       "      <th>1</th>\n",
       "      <td>1998</td>\n",
       "      <td>Altai Krai</td>\n",
       "      <td>3.3</td>\n",
       "      <td>19.2</td>\n",
       "      <td>11.3</td>\n",
       "      <td>1.1</td>\n",
       "      <td>0.1</td>\n",
       "    </tr>\n",
       "    <tr>\n",
       "      <th>2</th>\n",
       "      <td>1998</td>\n",
       "      <td>Amur Oblast</td>\n",
       "      <td>2.1</td>\n",
       "      <td>21.2</td>\n",
       "      <td>17.3</td>\n",
       "      <td>0.7</td>\n",
       "      <td>0.4</td>\n",
       "    </tr>\n",
       "    <tr>\n",
       "      <th>3</th>\n",
       "      <td>1998</td>\n",
       "      <td>Arkhangelsk Oblast</td>\n",
       "      <td>4.3</td>\n",
       "      <td>10.6</td>\n",
       "      <td>11.7</td>\n",
       "      <td>0.4</td>\n",
       "      <td>0.3</td>\n",
       "    </tr>\n",
       "    <tr>\n",
       "      <th>4</th>\n",
       "      <td>1998</td>\n",
       "      <td>Astrakhan Oblast</td>\n",
       "      <td>2.9</td>\n",
       "      <td>18.0</td>\n",
       "      <td>9.5</td>\n",
       "      <td>0.8</td>\n",
       "      <td>0.2</td>\n",
       "    </tr>\n",
       "    <tr>\n",
       "      <th>5</th>\n",
       "      <td>1998</td>\n",
       "      <td>Republic of Bashkortostan</td>\n",
       "      <td>1.8</td>\n",
       "      <td>17.5</td>\n",
       "      <td>10.7</td>\n",
       "      <td>0.9</td>\n",
       "      <td>0.2</td>\n",
       "    </tr>\n",
       "    <tr>\n",
       "      <th>6</th>\n",
       "      <td>1998</td>\n",
       "      <td>Belgorod Oblast</td>\n",
       "      <td>3.4</td>\n",
       "      <td>23.0</td>\n",
       "      <td>10.8</td>\n",
       "      <td>0.9</td>\n",
       "      <td>0.1</td>\n",
       "    </tr>\n",
       "    <tr>\n",
       "      <th>7</th>\n",
       "      <td>1998</td>\n",
       "      <td>Bryansk Oblast</td>\n",
       "      <td>3.4</td>\n",
       "      <td>32.4</td>\n",
       "      <td>9.7</td>\n",
       "      <td>0.5</td>\n",
       "      <td>0.1</td>\n",
       "    </tr>\n",
       "    <tr>\n",
       "      <th>8</th>\n",
       "      <td>1998</td>\n",
       "      <td>Republic of Buryatia</td>\n",
       "      <td>1.1</td>\n",
       "      <td>8.8</td>\n",
       "      <td>15.8</td>\n",
       "      <td>0.9</td>\n",
       "      <td>0.1</td>\n",
       "    </tr>\n",
       "    <tr>\n",
       "      <th>9</th>\n",
       "      <td>1998</td>\n",
       "      <td>Vladimir Oblast</td>\n",
       "      <td>1.5</td>\n",
       "      <td>16.6</td>\n",
       "      <td>16.8</td>\n",
       "      <td>0.5</td>\n",
       "      <td>0.1</td>\n",
       "    </tr>\n",
       "  </tbody>\n",
       "</table>\n",
       "</div>"
      ],
      "text/plain": [
       "   year                     region  wine  beer  vodka  champagne  brandy\n",
       "0  1998         Republic of Adygea   1.9   8.8    3.4        0.3     0.1\n",
       "1  1998                 Altai Krai   3.3  19.2   11.3        1.1     0.1\n",
       "2  1998                Amur Oblast   2.1  21.2   17.3        0.7     0.4\n",
       "3  1998         Arkhangelsk Oblast   4.3  10.6   11.7        0.4     0.3\n",
       "4  1998           Astrakhan Oblast   2.9  18.0    9.5        0.8     0.2\n",
       "5  1998  Republic of Bashkortostan   1.8  17.5   10.7        0.9     0.2\n",
       "6  1998            Belgorod Oblast   3.4  23.0   10.8        0.9     0.1\n",
       "7  1998             Bryansk Oblast   3.4  32.4    9.7        0.5     0.1\n",
       "8  1998       Republic of Buryatia   1.1   8.8   15.8        0.9     0.1\n",
       "9  1998            Vladimir Oblast   1.5  16.6   16.8        0.5     0.1"
      ]
     },
     "execution_count": 2,
     "metadata": {},
     "output_type": "execute_result"
    }
   ],
   "source": [
    "df = pd.read_csv(r'./data/russian_alcohol_consumption.csv')\n",
    "df.head(10)"
   ]
  },
  {
   "cell_type": "code",
   "execution_count": 3,
   "id": "7d5540d5",
   "metadata": {},
   "outputs": [
    {
     "name": "stdout",
     "output_type": "stream",
     "text": [
      "<class 'pandas.core.frame.DataFrame'>\n",
      "RangeIndex: 1615 entries, 0 to 1614\n",
      "Data columns (total 7 columns):\n",
      " #   Column     Non-Null Count  Dtype  \n",
      "---  ------     --------------  -----  \n",
      " 0   year       1615 non-null   int64  \n",
      " 1   region     1615 non-null   object \n",
      " 2   wine       1552 non-null   float64\n",
      " 3   beer       1557 non-null   float64\n",
      " 4   vodka      1554 non-null   float64\n",
      " 5   champagne  1552 non-null   float64\n",
      " 6   brandy     1549 non-null   float64\n",
      "dtypes: float64(5), int64(1), object(1)\n",
      "memory usage: 88.4+ KB\n"
     ]
    }
   ],
   "source": [
    "df.info()"
   ]
  },
  {
   "cell_type": "code",
   "execution_count": 4,
   "id": "d5736998",
   "metadata": {},
   "outputs": [
    {
     "data": {
      "text/plain": [
       "array([1998, 1999, 2000, 2001, 2002, 2003, 2004, 2005, 2006, 2007, 2008,\n",
       "       2009, 2010, 2011, 2012, 2013, 2014, 2015, 2016], dtype=int64)"
      ]
     },
     "execution_count": 4,
     "metadata": {},
     "output_type": "execute_result"
    }
   ],
   "source": [
    "years = df['year'].unique()\n",
    "len(years)"
   ]
  },
  {
   "cell_type": "code",
   "execution_count": 13,
   "id": "04758fa9",
   "metadata": {},
   "outputs": [
    {
     "data": {
      "text/plain": [
       "85"
      ]
     },
     "execution_count": 13,
     "metadata": {},
     "output_type": "execute_result"
    }
   ],
   "source": [
    "regions = df['region'].unique()\n",
    "len(regions)"
   ]
  },
  {
   "cell_type": "code",
   "execution_count": 6,
   "id": "3c337a96",
   "metadata": {},
   "outputs": [
    {
     "data": {
      "text/plain": [
       "<AxesSubplot:>"
      ]
     },
     "execution_count": 6,
     "metadata": {},
     "output_type": "execute_result"
    },
    {
     "data": {
      "image/png": "[encoded data removed]",
      "text/plain": [
       "<Figure size 1800x720 with 2 Axes>"
      ]
     },
     "metadata": {
      "needs_background": "light"
     },
     "output_type": "display_data"
    }
   ],
   "source": [
    "msno.matrix(df)"
   ]
  },
  {
   "cell_type": "markdown",
   "id": "89e548ae",
   "metadata": {},
   "source": [
    "## Thoughts\n",
    "\n",
    "So far, I can see there are 85 unique regions in Russia with data collected from 1998 to 2016. The graph above shows that some rows have no data."
   ]
  },
  {
   "cell_type": "code",
   "execution_count": 15,
   "id": "f9ad1a40",
   "metadata": {},
   "outputs": [
    {
     "data": {
      "text/plain": [
       "year          0\n",
       "region        0\n",
       "wine         63\n",
       "beer         58\n",
       "vodka        61\n",
       "champagne    63\n",
       "brandy       66\n",
       "dtype: int64"
      ]
     },
     "execution_count": 15,
     "metadata": {},
     "output_type": "execute_result"
    },
    {
     "data": {
      "image/png": "[encoded data removed]",
      "text/plain": [
       "<Figure size 432x288 with 1 Axes>"
      ]
     },
     "metadata": {
      "needs_background": "light"
     },
     "output_type": "display_data"
    }
   ],
   "source": [
    "# Total number of missing data per row\n",
    "nMissing_row = df.isna().sum(axis=1)\n",
    "nMissing_row[nMissing_row > 0].hist(bins = [1,2,3,4,5,6])\n",
    "plt.xlabel('column index')\n",
    "plt.ylabel('Number of missing data')\n",
    "\n",
    "# Total number of missing data per column\n",
    "nMissing_col = df.isna().sum(axis=0)\n",
    "nMissing_col"
   ]
  },
  {
   "cell_type": "markdown",
   "id": "d37aa140",
   "metadata": {},
   "source": [
    "## Thoughts\n",
    "\n",
    "From the information above, we have MNAR case. There are 50+ rows that do not have any data on the alcohol drinks for a given region and year. Before deleting these rows, I need to determine what regions and years the information is missing from."
   ]
  },
  {
   "cell_type": "code",
   "execution_count": null,
   "id": "13ad6456",
   "metadata": {},
   "outputs": [],
   "source": []
  },
  {
   "cell_type": "code",
   "execution_count": null,
   "id": "b93d48b9",
   "metadata": {},
   "outputs": [],
   "source": []
  },
  {
   "cell_type": "code",
   "execution_count": null,
   "id": "40f2ea73",
   "metadata": {},
   "outputs": [],
   "source": []
  },
  {
   "cell_type": "code",
   "execution_count": null,
   "id": "51a83f8a",
   "metadata": {},
   "outputs": [],
   "source": []
  }
 ],
 "metadata": {
  "colab": {
   "name": "Welcome to DataCamp Workspaces.ipynb",
   "provenance": []
  },
  "kernelspec": {
   "display_name": "Python 3",
   "language": "python",
   "name": "python3"
  },
  "language_info": {
   "codemirror_mode": {
    "name": "ipython",
    "version": 3
   },
   "file_extension": ".py",
   "mimetype": "text/x-python",
   "name": "python",
   "nbconvert_exporter": "python",
   "pygments_lexer": "ipython3",
   "version": "3.7.7"
  }
 },
 "nbformat": 4,
 "nbformat_minor": 5
}
